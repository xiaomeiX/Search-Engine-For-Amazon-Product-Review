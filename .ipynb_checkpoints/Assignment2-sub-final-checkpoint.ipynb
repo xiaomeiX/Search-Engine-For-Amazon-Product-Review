{
 "cells": [
  {
   "cell_type": "markdown",
   "metadata": {},
   "source": [
    "###  Assignment 2 -- CPSC 5340 W22\n",
    "<span style=\"color:red\">\n",
    "<br>  Xiaomei Xie\n",
    "<br>  2/24/22\n",
    "</span>\n",
    "\n",
    "\n"
   ]
  },
  {
   "cell_type": "code",
   "execution_count": 1,
   "metadata": {},
   "outputs": [],
   "source": [
    "productASIN = []\n",
    "\n",
    "def getPrice(proDic):\n",
    "    try:\n",
    "        return float(proDic.get('price', 0.0))\n",
    "    except:\n",
    "        return -1.0\n",
    "\n",
    "def getOverall(reviewDic):\n",
    "    try:\n",
    "        overall = int(reviewDic.get('overall'))\n",
    "        if overall >=1 and overall <=5:\n",
    "            return overall\n",
    "        else:\n",
    "            return 0\n",
    "    except:\n",
    "        return 0\n",
    "    \n",
    "def productJSON(filename):\n",
    "    products =[]\n",
    "    with(open(filename, \"r\")) as proFile:\n",
    "        for line in iter(proFile.readline, ''):\n",
    "            product = eval('(' + line + ')')\n",
    "            proDic = { 'asin': product['asin'],\n",
    "                       'title': product.get('title',''),\n",
    "                       'description':product.get('description',''),\n",
    "                       'price': getPrice(product)\n",
    "                \n",
    "            }\n",
    "            if (proDic['asin']!='' and proDic['title']!='' and proDic['price']>=0.0):\n",
    "                products.append(proDic)\n",
    "                productASIN.append(proDic['asin'])           \n",
    "    return products"
   ]
  },
  {
   "cell_type": "code",
   "execution_count": 2,
   "metadata": {},
   "outputs": [],
   "source": [
    "def reviewJSON(filename):\n",
    "    reviews =[]\n",
    "    with(open(filename, \"r\")) as revFile:\n",
    "        for line in iter(revFile.readline, ''):\n",
    "            review = eval('(' + line + ')')\n",
    "            reviewDic = {'asin': review['asin'],\n",
    "                          'reviewText': review.get('reviewText',''),\n",
    "                         'overall': getOverall(review),\n",
    "                         'summary': review.get('summary','')\n",
    "                \n",
    "            }\n",
    "            if reviewDic['asin']!='' and \\\n",
    "                reviewDic['asin'] in productASIN and \\\n",
    "                reviewDic['reviewText']!=''and \\\n",
    "                reviewDic['overall']>0:\n",
    "                reviews.append(reviewDic)\n",
    "          \n",
    "    return reviews"
   ]
  },
  {
   "cell_type": "code",
   "execution_count": 4,
   "metadata": {},
   "outputs": [
    {
     "data": {
      "text/plain": [
       "b\"\\nCreated new core 'reviews'\\r\\n\""
      ]
     },
     "execution_count": 4,
     "metadata": {},
     "output_type": "execute_result"
    }
   ],
   "source": [
    "'''\n",
    "import subprocess\n",
    "import os\n",
    "\n",
    "SOLR_EXECUTABLE = 'C:\\\\solr-8.11.1\\\\solr-8.11.1\\\\bin\\\\solr.cmd'\n",
    "SOLR_PRODUCTS = 'http://localhost:8983/solr/products'\n",
    "SOLR_REVIEWS = 'http://localhost:8983/solr/reviews'\n",
    "\n",
    "config_products_loc = os.getcwd() +'\\\\products\\\\conf'\n",
    "config_reviews_loc = os.getcwd() +'\\\\reviews\\\\conf'\n",
    "\n",
    "def solr_command(*args):\n",
    "    return subprocess.check_output([SOLR_EXECUTABLE] + list(args))\n",
    "\n",
    "\n",
    "solr_command('create_core', '-c', 'products', '-d', config_products_loc)\n",
    "solr_command('create_core', '-c', 'reviews', '-d', config_reviews_loc)\n",
    "'''"
   ]
  },
  {
   "cell_type": "code",
   "execution_count": 5,
   "metadata": {},
   "outputs": [
    {
     "data": {
      "text/plain": [
       "'{\\n  \"responseHeader\":{\\n    \"status\":0,\\n    \"QTime\":4292}}\\n'"
      ]
     },
     "execution_count": 5,
     "metadata": {},
     "output_type": "execute_result"
    }
   ],
   "source": [
    "'''\n",
    "import pysolr\n",
    "\n",
    "PRODUCTFILE = \"test-products.txt\"\n",
    "REVIEWFILE = \"test-reviews.txt\"\n",
    "pr = productJSON(PRODUCTFILE)\n",
    "pysolr.Solr(SOLR_PRODUCTS).add(pr, commit=True)\n",
    "\n",
    "\n",
    "re =reviewJSON(REVIEWFILE)\n",
    "pysolr.Solr(SOLR_REVIEWS).add(re, commit=True)\n",
    "'''\n"
   ]
  },
  {
   "cell_type": "code",
   "execution_count": null,
   "metadata": {},
   "outputs": [],
   "source": []
  }
 ],
 "metadata": {
  "kernelspec": {
   "display_name": "Python 3",
   "language": "python",
   "name": "python3"
  },
  "language_info": {
   "codemirror_mode": {
    "name": "ipython",
    "version": 3
   },
   "file_extension": ".py",
   "mimetype": "text/x-python",
   "name": "python",
   "nbconvert_exporter": "python",
   "pygments_lexer": "ipython3",
   "version": "3.7.9"
  }
 },
 "nbformat": 4,
 "nbformat_minor": 2
}
