{
 "cells": [
  {
   "cell_type": "markdown",
   "metadata": {},
   "source": [
    "#### The Two Files and Their Fields\n",
    "\n",
    "You have two files, one containing review data, the other containing product data.\n",
    "The format of these files is unusual:  each file has one line per \"data row,\" and a data row is either a single review or a single product, depending on the file.\n",
    "\n",
    "Each line can be converted to a Python dictionary using this \n",
    "code:\n",
    "\n",
    "``eval('(' + line + ')')``\n",
    "\n",
    "By iterating over all of the lines in the review data file and evaluating each line, you can build a list of dictionaries, one per review.  In other words, this is roughly the same as scraping the review pages. And likewise for the product pages data file.  You will use the data in these two lists of dictionaries to index your two SOLR collections.\n",
    "\n",
    "One difference is that when you scrape a page you can select only the attributes that are interesting to your application.  When you read these files in, they will have some extra fields, which you will have to remove from your dictionary (because those fields will not be in your SOLR schema, and SOLR will complain if you send it fields that are not part of its schema).\n",
    "\n",
    "Not all of the fields are interesting to us in the sense we will use them on our web site;  here is information about what the fields mean, and which you should keep and which you should discard (ignore)\n",
    "\n",
    "##### Reviews Data\n",
    "\n",
    "Your solution will only use the following fields;  ignore any others in the data\n",
    "\n",
    "| Field | Type | Note |\n",
    "|-------|------|------|\n",
    "| id | UUID | Not in the input file;  supplied by SOLR the same as you did for Assignment 1\n",
    "| asin | string | Product ID.  Joins with the asin field in the product file |\n",
    "| reviewText | text | Full review body |\n",
    "| overall | integer | Average rating.  Truncate the floating-point value |\n",
    "| summary | text | Review summary text |\n",
    "\n",
    "Unlike the last assignment, we are omitting the review time from our reviews documents.\n",
    "\n",
    "##### Products\n",
    " \n",
    "Your solution will only use the following fields;  ignore any others in the data\n",
    "\n",
    "| Field | Type | Note |\n",
    "|-------|------|------|\n",
    "| asin | string | Unique ID for products.  Joins with the asin field in the reviews file. |\n",
    "| description | string | Stored but not indexed.  Shown on product detail page but not searchable. |\n",
    "| title | string | This is the product name.  Stored but not indexed.  Shown on the product detail page and also on review search result and detail pages. |\n",
    "| price | float | Displayed in currency format on the product detail page.|\n",
    "\n",
    "Notice that for product data, only the ASIN field in products is being indexed.  That means you can't do any kind of search on Products except an ASIN lookup.  Of course in a real e-commerce application you would want to search on product attributes too, but for this assignment we are keeping it simple and only searching on reviews.  \n",
    "\n",
    "Be aware of the implications of this decision -- if for example you do a review search on 'iphone' you will only find reviews that explicitly contain the term 'iphone' in the review summary or the review text, even though the product itself might have 'iphone' in the title."
   ]
  },
  {
   "cell_type": "markdown",
   "metadata": {},
   "source": [
    "### The Code and How it Will be Used\n",
    "\n",
    "The main deliverables for this assignment are\n",
    "* A directory containing the configuration for your *reviews* collection\n",
    "* A directory containing the configuration for your *products* collection\n",
    "* A directory containing your Flask project\n",
    "\n",
    "Please be careful to name things exactly like this:\n",
    "* The directory containing the configuration for your reviews collection will have the name *reviews*\n",
    "* The name of the SOLR collection will also be named *reviews*\n",
    "* The directory containing the configuration for your products collection will have the name *products*\n",
    "* The name of the SOLR collection will also be named *products*\n",
    "* The name of the directory containing your Flask project will be named *reviewsite*\n",
    "\n",
    "This notebook will contain some code to \"scrape\" the data files and prepare dictionaries for indexing.  Please note that in this notebook you will just write the function definitions  to prepare the dictionaries, similar to the function *scrapePagesForReviews* you wrote for Assignment 1.   \n",
    "\n",
    "Also note that in your code and in your SOLR schemas you must use the exact names in the documentation above.  For example, your *reviews* schema must have fields named *id*, *asin*, *reviewText*, *overall*, and *summary*.  Be careful about capitalization.  The  *products* schema must have fields named *asin*, *description*, *title*, and *price*.  \n",
    "\n",
    "When you \"scrape\" products and reviews you must also follow the following rules, which filter out records with bad data.  In the rules below, \"empty\" means either the value of the attribute is an empty string, or the attribute is missing altogether.\n",
    "\n",
    "For products\n",
    "* Do not include a product if its asin or title fields are empty.  An empty description is OK.\n",
    "* It is OK to have an empty price, but you need to check that the string value you read is a valid positive floating point number.  If the value is not a valid positive floating point number, omit the attribute\n",
    "\n",
    "For reviews\n",
    "* Do not include a review if its asin, summary, or reviewText attributes are empty\n",
    "* It is OK to have an empty *overall* attribute, but you need to check that the string value you read can be converted to an integer between 1 and 5.  If the value cannot be converted to an integer between 1 and 5, omit the attribute\n",
    "* Do not include a review if there is not a product with the same asin\n",
    "   * This last restriction is tricky -- give some thought to its implementation!"
   ]
  },
  {
   "cell_type": "code",
   "execution_count": 150,
   "metadata": {},
   "outputs": [],
   "source": [
    "##############################################################\n",
    "#  These functions read the data files and produce lists of dictionaries, which\n",
    "#  will be passed to SOLR for indexing.   So the key names in the dictionaries\n",
    "#  must correspond to SOLR fields, and the values must be of the correct type \n",
    "#  according to the SOLR schema.\n",
    "\n",
    "import os\n",
    "\n",
    "\n",
    "PRODUCTFILE = \"test-products.txt\"\n",
    "REVIEWFILE = \"test-reviews.txt\"\n",
    "productASIN = []\n",
    "\n",
    "def getPrice(proDic):\n",
    "    try:\n",
    "        return float(proDic.get('price', 0.0))\n",
    "    except:\n",
    "        return -1.0\n",
    "\n",
    "def getOverall(reviewDic):\n",
    "    try:\n",
    "        overall = int(reviewDic.get('overall'))\n",
    "        if overall >=1 and overall <=5:\n",
    "            return overall\n",
    "        else:\n",
    "            return 0\n",
    "    except:\n",
    "        return 0\n",
    "    \n",
    "def productJSON(filename):\n",
    "    products =[]\n",
    "    with(open(filename, \"r\")) as proFile:\n",
    "        for line in iter(proFile.readline, ''):\n",
    "            product = eval('(' + line + ')')\n",
    "            proDic = { 'asin': product['asin'],\n",
    "                       'title': product.get('title',''),\n",
    "                       'description':product.get('description',''),\n",
    "                       'price': getPrice(product)\n",
    "                \n",
    "            }\n",
    "            if (proDic['asin']!='' and proDic['title']!='' and proDic['price']>=0.0):\n",
    "                products.append(proDic)\n",
    "                productASIN.append(proDic['asin'])\n",
    "    print(products[0])           \n",
    "    return products"
   ]
  },
  {
   "cell_type": "code",
   "execution_count": 151,
   "metadata": {},
   "outputs": [],
   "source": [
    "def reviewJSON(filename):\n",
    "    reviews =[]\n",
    "    with(open(filename, \"r\")) as revFile:\n",
    "        for line in iter(revFile.readline, ''):\n",
    "            review = eval('(' + line + ')')\n",
    "            reviewDic = {'asin': review['asin'],\n",
    "                          'reviewText': review.get('reviewText',''),\n",
    "                         'overall': getOverall(review),\n",
    "                         'summary': review.get('summary','')\n",
    "                \n",
    "            }\n",
    "            if reviewDic['asin']!='' and \\\n",
    "                reviewDic['asin'] in productASIN and \\\n",
    "                reviewDic['reviewText']!=''and \\\n",
    "                reviewDic['overall']>0:\n",
    "                reviews.append(reviewDic)\n",
    "          \n",
    "\n",
    "    print(reviews[0])\n",
    "    return reviews"
   ]
  },
  {
   "cell_type": "code",
   "execution_count": 137,
   "metadata": {},
   "outputs": [
    {
     "name": "stdout",
     "output_type": "stream",
     "text": [
      "C:\\Users\\xiexi\\JupyterNotebook\\TextProcessing\\HW\\Assignment2\\products\\conf\n"
     ]
    },
    {
     "data": {
      "text/plain": [
       "b\"\\nCreated new core 'products'\\r\\n\""
      ]
     },
     "execution_count": 137,
     "metadata": {},
     "output_type": "execute_result"
    }
   ],
   "source": [
    "import subprocess\n",
    "\n",
    "\n",
    "SOLR_EXECUTABLE = 'C:\\\\solr-8.11.1\\\\solr-8.11.1\\\\bin\\\\solr.cmd'\n",
    "SOLR_PRODUCTS = 'http://localhost:8983/solr/products'\n",
    "SOLR_REVIEWS = 'http://localhost:8983/solr/reviews'\n",
    "\n",
    "config_products_loc = os.getcwd() +'\\\\products\\\\conf'\n",
    "config_reviews_loc = os.getcwd() +'\\\\reviews\\\\conf'\n",
    "\n",
    "def solr_command(*args):\n",
    "    return subprocess.check_output([SOLR_EXECUTABLE] + list(args))\n",
    "\n",
    "\n",
    "solr_command('create_core', '-c', 'products', '-d', config_products_loc)\n",
    "solr_command('create_core', '-c', 'reviews', '-d', config_reviews_loc)"
   ]
  },
  {
   "cell_type": "code",
   "execution_count": 139,
   "metadata": {},
   "outputs": [
    {
     "data": {
      "text/plain": [
       "'{\\n  \"responseHeader\":{\\n    \"status\":0,\\n    \"QTime\":3042}}\\n'"
      ]
     },
     "execution_count": 139,
     "metadata": {},
     "output_type": "execute_result"
    }
   ],
   "source": [
    "import pysolr\n",
    "pr = productJSON(PRODUCTFILE)\n",
    "pysolr.Solr(SOLR_PRODUCTS).add(pr, commit=True)\n",
    "\n",
    "\n",
    "re =reviewJSON(REVIEWFILE)\n",
    "pysolr.Solr(SOLR_REVIEWS).add(re, commit=True)"
   ]
  },
  {
   "cell_type": "markdown",
   "metadata": {},
   "source": [
    "### How I Will Run Your Solution\n",
    "\n",
    "I will start in a directory that contains\n",
    "* This notebook (the notebook you hand in)\n",
    "* Your two configuration directories you hand in, which must be named *products* and *reviews*\n",
    "* The directory you hand in containing your Flask application, which must be named *reviewsite*\n",
    "* My test data files, which might be named *testProductData.txt* and *testReviewData.txt*\n",
    "\n",
    "SOLR will be running and have no collections defined.\n",
    "\n",
    "I will do the following\n",
    "* Create the *products* and *reviews* collections using the directories you provided.  For example\n",
    "<pre>\n",
    "solr create_collection -c products -d products\n",
    "solr create_collection -c reviews -d reviews\n",
    "</pre>\n",
    "* Index \"documents\" using the \"scraping\" code you defined above, pointing your code to my test files.  For example.\n",
    "<pre>\n",
    "prod = productJSON(\"my-test-product-data.txt\")\n",
    "solr = pysolr.Solr('http://localhost:8983/solr/products')\n",
    "solr.add(prod, commit=True)\n",
    "</pre>\n",
    "<pre>\n",
    "rev = reviewJSON(\"my-test-review-data.txt\")\n",
    "solr = pysolr.Solr('http://localhost:8983/solr/reviews')\n",
    "solr.add(rev, commit=True)\n",
    "</pre>\n",
    "* Start Flask, pointing it at your project directory.  For example.\n",
    "<pre>\n",
    "set FLASK_APP=reviewsite\n",
    "set FLASK_DEBUG=1\n",
    "flask run\n",
    "</pre>\n",
    "* Then I will do searches and lookups and overall test the functionality of your site on the test data set"
   ]
  },
  {
   "cell_type": "markdown",
   "metadata": {},
   "source": [
    "### To Prepare This Notebook to Hand In\n",
    "Your notebook should contain only two cells, in this order\n",
    "1.  A Markdown cell containing your name, the course number and name, the quarter, and identifies it as a solution for Assignment 2\n",
    "2.  A Code cell that contains your function definitions for *productJSON* and *reviewJSON*"
   ]
  }
 ],
 "metadata": {
  "kernelspec": {
   "display_name": "Python 3",
   "language": "python",
   "name": "python3"
  },
  "language_info": {
   "codemirror_mode": {
    "name": "ipython",
    "version": 3
   },
   "file_extension": ".py",
   "mimetype": "text/x-python",
   "name": "python",
   "nbconvert_exporter": "python",
   "pygments_lexer": "ipython3",
   "version": "3.7.9"
  }
 },
 "nbformat": 4,
 "nbformat_minor": 2
}
